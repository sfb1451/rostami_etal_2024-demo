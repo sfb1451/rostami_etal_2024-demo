{
 "cells": [
  {
   "cell_type": "markdown",
   "id": "9c23a22c-5ef7-458b-81e5-f4b3ad9f96f9",
   "metadata": {},
   "source": [
    "# Demo notebook for Rostami et al (2024)\n",
    "\n",
    "This notebook demonstrates code & data access and single figure re-generation for \"Spiking attractor model of motor cortex explains modulation of neural and behavioral variability by prior target information\" by Rostami et al.\n",
    "\n",
    "- [code repository](https://github.com/nawrotlab/ClusteredNetwork_pub)\n",
    "- [data repository](https://gin.g-node.org/nawrotlab/delayed_center-out_uncertainty_Riehle)\n",
    "- [this demo repository](https://github.com/sfb1451/rostami_etal_2024-demo)\n",
    "- [article preprint](https://doi.org/10.21203/rs.3.rs-1337724/v1)"
   ]
  },
  {
   "cell_type": "markdown",
   "id": "b8824eda-ad88-4a9b-8ba0-cb8e5ca1a793",
   "metadata": {},
   "source": [
    "## Download code and dataset, perform initial setup\n",
    "Based on instructions in the README of [nawrotlab/ClusteredNetwork_pub](https://github.com/nawrotlab/ClusteredNetwork_pub)"
   ]
  },
  {
   "cell_type": "markdown",
   "id": "a011e566-42be-4f72-a310-3cba4271f4a1",
   "metadata": {},
   "source": [
    "Activate Conda environment"
   ]
  },
  {
   "cell_type": "code",
   "execution_count": null,
   "id": "bea56a57-bea9-4228-99f7-e0a6e8e5129f",
   "metadata": {},
   "outputs": [],
   "source": [
    "conda activate ClusteredNetwork_pub"
   ]
  },
  {
   "cell_type": "markdown",
   "id": "f6b26ac6-518b-4b67-a709-e8a3503fc140",
   "metadata": {},
   "source": [
    "Clone the code repository"
   ]
  },
  {
   "cell_type": "code",
   "execution_count": null,
   "id": "9468db0c-05e5-4c38-b6ab-e9e02822f515",
   "metadata": {},
   "outputs": [],
   "source": [
    "git clone --branch v1.0.0 https://github.com/nawrotlab/ClusteredNetwork_pub.git"
   ]
  },
  {
   "cell_type": "markdown",
   "id": "9a470624-48e4-424e-8fff-ef6daa35768b",
   "metadata": {},
   "source": [
    "Clone the data repository"
   ]
  },
  {
   "cell_type": "code",
   "execution_count": null,
   "id": "13654c4c-545e-4b62-816d-a648379ba158",
   "metadata": {},
   "outputs": [],
   "source": [
    "cd ~/ClusteredNetwork_pub/\n",
    "git clone https://gin.g-node.org/nawrotlab/delayed_center-out_uncertainty_Riehle"
   ]
  },
  {
   "cell_type": "markdown",
   "id": "39753845-9962-4984-88fd-8dd4d7f327ac",
   "metadata": {},
   "source": [
    "Create the expected folder structure"
   ]
  },
  {
   "cell_type": "code",
   "execution_count": null,
   "id": "16fa142b-37c5-4e87-afa2-803ea5f9ad83",
   "metadata": {},
   "outputs": [],
   "source": [
    "# link content of the freshly cloned dataset under `data`\n",
    "mkdir data\n",
    "ln -r -s delayed_center-out_uncertainty_Riehle/pickle data/experimental_data\n",
    "# create an empty directory for preprocessed and simulated data\n",
    "mkdir data/preprocessed_and_simulated_data"
   ]
  },
  {
   "cell_type": "markdown",
   "id": "7f8ffc21-68ee-489a-88b4-beb1a4787630",
   "metadata": {},
   "source": [
    "Patch `fig_codes/fig3.py` to output PNG instead of PDF"
   ]
  },
  {
   "cell_type": "code",
   "execution_count": null,
   "id": "75e0cfb9-4d58-4785-82a3-978cdcd74cec",
   "metadata": {},
   "outputs": [],
   "source": [
    "git apply ~/changes.patch"
   ]
  },
  {
   "cell_type": "markdown",
   "id": "d32056c9-484a-451d-a364-34576adae756",
   "metadata": {},
   "source": [
    "## Run the code\n",
    "Run the Figure 3 reproducer. Figure 3 displays simulation results and does not directly use the experimental data, but it is shown here because the underlying simulation is relatively quick to compute.\n",
    "\n",
    "Note: in Binder, it may take about 15 minutes."
   ]
  },
  {
   "cell_type": "code",
   "execution_count": null,
   "id": "94ea8595-9537-47ce-9e82-2db26859ea8d",
   "metadata": {},
   "outputs": [],
   "source": [
    "# code needs to be run from the fig_codes directory\n",
    "cd ./fig_codes/\n",
    "pwd"
   ]
  },
  {
   "cell_type": "code",
   "execution_count": null,
   "id": "d50f484b-a48d-4738-9e87-4ec1dae551b4",
   "metadata": {},
   "outputs": [],
   "source": [
    "python ./fig3.py"
   ]
  },
  {
   "cell_type": "markdown",
   "id": "f7ba9ccf-d041-4bda-9444-bf6a33846aff",
   "metadata": {},
   "source": [
    "List the figure files, new and old:"
   ]
  },
  {
   "cell_type": "code",
   "execution_count": null,
   "id": "d3fd0e31-8b5e-4f64-969b-10b662677605",
   "metadata": {},
   "outputs": [],
   "source": [
    "ls -alh | grep \" fig3\""
   ]
  },
  {
   "cell_type": "markdown",
   "id": "d11a1fbf-4c2d-462d-ac9f-09bdd4d70485",
   "metadata": {},
   "source": [
    "Display the generated figure:"
   ]
  },
  {
   "cell_type": "code",
   "execution_count": null,
   "id": "d4b1a87a-2504-452f-b32b-f475ae0f122d",
   "metadata": {},
   "outputs": [],
   "source": [
    "cat fig3.png | display"
   ]
  },
  {
   "cell_type": "markdown",
   "id": "2f138578-cd70-4e27-8137-034c21c88402",
   "metadata": {},
   "source": [
    "The PDF file cannot be displayed in the notebook. Navigate to `ClusteredNetwork_pub/fig_codes` in the file browser pane on the left to compare PNG (generated) and PDF (original) files."
   ]
  },
  {
   "cell_type": "code",
   "execution_count": null,
   "id": "792820a4-69c1-40e5-9e6a-e51dd4824d2a",
   "metadata": {},
   "outputs": [],
   "source": []
  }
 ],
 "metadata": {
  "kernelspec": {
   "display_name": "Bash",
   "language": "bash",
   "name": "bash"
  },
  "language_info": {
   "codemirror_mode": "shell",
   "file_extension": ".sh",
   "mimetype": "text/x-sh",
   "name": "bash"
  }
 },
 "nbformat": 4,
 "nbformat_minor": 5
}
